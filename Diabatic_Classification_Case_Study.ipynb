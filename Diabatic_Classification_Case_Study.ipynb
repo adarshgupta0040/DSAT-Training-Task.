{
  "nbformat": 4,
  "nbformat_minor": 0,
  "metadata": {
    "colab": {
      "name": "Diabatic Classification Case Study.ipynb",
      "provenance": []
    },
    "kernelspec": {
      "name": "python3",
      "display_name": "Python 3"
    },
    "language_info": {
      "name": "python"
    }
  },
  "cells": [
    {
      "cell_type": "code",
      "execution_count": 1,
      "metadata": {
        "id": "CThGixI6VxLI"
      },
      "outputs": [],
      "source": [
        "import numpy as np\n",
        "import pandas as pd\n",
        "import seaborn as sns\n",
        "import matplotlib.pyplot as plt"
      ]
    },
    {
      "cell_type": "code",
      "source": [
        "df=pd.read_csv(\"/content/dataset_diabetes_diabetic_data.csv\")\n",
        "df.head()"
      ],
      "metadata": {
        "colab": {
          "base_uri": "https://localhost:8080/",
          "height": 357
        },
        "id": "tjSjDLhCV7sY",
        "outputId": "51c447ba-115d-499a-b41a-126b4c3701b7"
      },
      "execution_count": 2,
      "outputs": [
        {
          "output_type": "execute_result",
          "data": {
            "text/plain": [
              "   patient_nbr             race  gender      age  admission_type_id  \\\n",
              "0      8222157        Caucasian  Female   [0-10)                  6   \n",
              "1     55629189        Caucasian  Female  [10-20)                  1   \n",
              "2     86047875  AfricanAmerican  Female  [20-30)                  1   \n",
              "3     82442376        Caucasian    Male  [30-40)                  1   \n",
              "4     42519267        Caucasian    Male  [40-50)                  1   \n",
              "\n",
              "   discharge_disposition_id  admission_source_id  time_in_hospital  \\\n",
              "0                        25                    1                 1   \n",
              "1                         1                    7                 3   \n",
              "2                         1                    7                 2   \n",
              "3                         1                    7                 2   \n",
              "4                         1                    7                 1   \n",
              "\n",
              "   num_lab_procedures  num_procedures  num_medications  number_outpatient  \\\n",
              "0                  41               0                1                  0   \n",
              "1                  59               0               18                  0   \n",
              "2                  11               5               13                  2   \n",
              "3                  44               1               16                  0   \n",
              "4                  51               0                8                  0   \n",
              "\n",
              "   number_emergency  number_inpatient  diag_1  diag_2 diag_3  \\\n",
              "0                 0                 0  250.83       ?      ?   \n",
              "1                 0                 0     276  250.01    255   \n",
              "2                 0                 1     648     250    V27   \n",
              "3                 0                 0       8  250.43    403   \n",
              "4                 0                 0     197     157    250   \n",
              "\n",
              "   number_diagnoses change diabatic  \n",
              "0                 1     No       No  \n",
              "1                 9     Ch      Yes  \n",
              "2                 6     No      Yes  \n",
              "3                 7     Ch      Yes  \n",
              "4                 5     Ch      Yes  "
            ],
            "text/html": [
              "\n",
              "  <div id=\"df-b427a693-56b1-4d54-866f-286611e734da\">\n",
              "    <div class=\"colab-df-container\">\n",
              "      <div>\n",
              "<style scoped>\n",
              "    .dataframe tbody tr th:only-of-type {\n",
              "        vertical-align: middle;\n",
              "    }\n",
              "\n",
              "    .dataframe tbody tr th {\n",
              "        vertical-align: top;\n",
              "    }\n",
              "\n",
              "    .dataframe thead th {\n",
              "        text-align: right;\n",
              "    }\n",
              "</style>\n",
              "<table border=\"1\" class=\"dataframe\">\n",
              "  <thead>\n",
              "    <tr style=\"text-align: right;\">\n",
              "      <th></th>\n",
              "      <th>patient_nbr</th>\n",
              "      <th>race</th>\n",
              "      <th>gender</th>\n",
              "      <th>age</th>\n",
              "      <th>admission_type_id</th>\n",
              "      <th>discharge_disposition_id</th>\n",
              "      <th>admission_source_id</th>\n",
              "      <th>time_in_hospital</th>\n",
              "      <th>num_lab_procedures</th>\n",
              "      <th>num_procedures</th>\n",
              "      <th>num_medications</th>\n",
              "      <th>number_outpatient</th>\n",
              "      <th>number_emergency</th>\n",
              "      <th>number_inpatient</th>\n",
              "      <th>diag_1</th>\n",
              "      <th>diag_2</th>\n",
              "      <th>diag_3</th>\n",
              "      <th>number_diagnoses</th>\n",
              "      <th>change</th>\n",
              "      <th>diabatic</th>\n",
              "    </tr>\n",
              "  </thead>\n",
              "  <tbody>\n",
              "    <tr>\n",
              "      <th>0</th>\n",
              "      <td>8222157</td>\n",
              "      <td>Caucasian</td>\n",
              "      <td>Female</td>\n",
              "      <td>[0-10)</td>\n",
              "      <td>6</td>\n",
              "      <td>25</td>\n",
              "      <td>1</td>\n",
              "      <td>1</td>\n",
              "      <td>41</td>\n",
              "      <td>0</td>\n",
              "      <td>1</td>\n",
              "      <td>0</td>\n",
              "      <td>0</td>\n",
              "      <td>0</td>\n",
              "      <td>250.83</td>\n",
              "      <td>?</td>\n",
              "      <td>?</td>\n",
              "      <td>1</td>\n",
              "      <td>No</td>\n",
              "      <td>No</td>\n",
              "    </tr>\n",
              "    <tr>\n",
              "      <th>1</th>\n",
              "      <td>55629189</td>\n",
              "      <td>Caucasian</td>\n",
              "      <td>Female</td>\n",
              "      <td>[10-20)</td>\n",
              "      <td>1</td>\n",
              "      <td>1</td>\n",
              "      <td>7</td>\n",
              "      <td>3</td>\n",
              "      <td>59</td>\n",
              "      <td>0</td>\n",
              "      <td>18</td>\n",
              "      <td>0</td>\n",
              "      <td>0</td>\n",
              "      <td>0</td>\n",
              "      <td>276</td>\n",
              "      <td>250.01</td>\n",
              "      <td>255</td>\n",
              "      <td>9</td>\n",
              "      <td>Ch</td>\n",
              "      <td>Yes</td>\n",
              "    </tr>\n",
              "    <tr>\n",
              "      <th>2</th>\n",
              "      <td>86047875</td>\n",
              "      <td>AfricanAmerican</td>\n",
              "      <td>Female</td>\n",
              "      <td>[20-30)</td>\n",
              "      <td>1</td>\n",
              "      <td>1</td>\n",
              "      <td>7</td>\n",
              "      <td>2</td>\n",
              "      <td>11</td>\n",
              "      <td>5</td>\n",
              "      <td>13</td>\n",
              "      <td>2</td>\n",
              "      <td>0</td>\n",
              "      <td>1</td>\n",
              "      <td>648</td>\n",
              "      <td>250</td>\n",
              "      <td>V27</td>\n",
              "      <td>6</td>\n",
              "      <td>No</td>\n",
              "      <td>Yes</td>\n",
              "    </tr>\n",
              "    <tr>\n",
              "      <th>3</th>\n",
              "      <td>82442376</td>\n",
              "      <td>Caucasian</td>\n",
              "      <td>Male</td>\n",
              "      <td>[30-40)</td>\n",
              "      <td>1</td>\n",
              "      <td>1</td>\n",
              "      <td>7</td>\n",
              "      <td>2</td>\n",
              "      <td>44</td>\n",
              "      <td>1</td>\n",
              "      <td>16</td>\n",
              "      <td>0</td>\n",
              "      <td>0</td>\n",
              "      <td>0</td>\n",
              "      <td>8</td>\n",
              "      <td>250.43</td>\n",
              "      <td>403</td>\n",
              "      <td>7</td>\n",
              "      <td>Ch</td>\n",
              "      <td>Yes</td>\n",
              "    </tr>\n",
              "    <tr>\n",
              "      <th>4</th>\n",
              "      <td>42519267</td>\n",
              "      <td>Caucasian</td>\n",
              "      <td>Male</td>\n",
              "      <td>[40-50)</td>\n",
              "      <td>1</td>\n",
              "      <td>1</td>\n",
              "      <td>7</td>\n",
              "      <td>1</td>\n",
              "      <td>51</td>\n",
              "      <td>0</td>\n",
              "      <td>8</td>\n",
              "      <td>0</td>\n",
              "      <td>0</td>\n",
              "      <td>0</td>\n",
              "      <td>197</td>\n",
              "      <td>157</td>\n",
              "      <td>250</td>\n",
              "      <td>5</td>\n",
              "      <td>Ch</td>\n",
              "      <td>Yes</td>\n",
              "    </tr>\n",
              "  </tbody>\n",
              "</table>\n",
              "</div>\n",
              "      <button class=\"colab-df-convert\" onclick=\"convertToInteractive('df-b427a693-56b1-4d54-866f-286611e734da')\"\n",
              "              title=\"Convert this dataframe to an interactive table.\"\n",
              "              style=\"display:none;\">\n",
              "        \n",
              "  <svg xmlns=\"http://www.w3.org/2000/svg\" height=\"24px\"viewBox=\"0 0 24 24\"\n",
              "       width=\"24px\">\n",
              "    <path d=\"M0 0h24v24H0V0z\" fill=\"none\"/>\n",
              "    <path d=\"M18.56 5.44l.94 2.06.94-2.06 2.06-.94-2.06-.94-.94-2.06-.94 2.06-2.06.94zm-11 1L8.5 8.5l.94-2.06 2.06-.94-2.06-.94L8.5 2.5l-.94 2.06-2.06.94zm10 10l.94 2.06.94-2.06 2.06-.94-2.06-.94-.94-2.06-.94 2.06-2.06.94z\"/><path d=\"M17.41 7.96l-1.37-1.37c-.4-.4-.92-.59-1.43-.59-.52 0-1.04.2-1.43.59L10.3 9.45l-7.72 7.72c-.78.78-.78 2.05 0 2.83L4 21.41c.39.39.9.59 1.41.59.51 0 1.02-.2 1.41-.59l7.78-7.78 2.81-2.81c.8-.78.8-2.07 0-2.86zM5.41 20L4 18.59l7.72-7.72 1.47 1.35L5.41 20z\"/>\n",
              "  </svg>\n",
              "      </button>\n",
              "      \n",
              "  <style>\n",
              "    .colab-df-container {\n",
              "      display:flex;\n",
              "      flex-wrap:wrap;\n",
              "      gap: 12px;\n",
              "    }\n",
              "\n",
              "    .colab-df-convert {\n",
              "      background-color: #E8F0FE;\n",
              "      border: none;\n",
              "      border-radius: 50%;\n",
              "      cursor: pointer;\n",
              "      display: none;\n",
              "      fill: #1967D2;\n",
              "      height: 32px;\n",
              "      padding: 0 0 0 0;\n",
              "      width: 32px;\n",
              "    }\n",
              "\n",
              "    .colab-df-convert:hover {\n",
              "      background-color: #E2EBFA;\n",
              "      box-shadow: 0px 1px 2px rgba(60, 64, 67, 0.3), 0px 1px 3px 1px rgba(60, 64, 67, 0.15);\n",
              "      fill: #174EA6;\n",
              "    }\n",
              "\n",
              "    [theme=dark] .colab-df-convert {\n",
              "      background-color: #3B4455;\n",
              "      fill: #D2E3FC;\n",
              "    }\n",
              "\n",
              "    [theme=dark] .colab-df-convert:hover {\n",
              "      background-color: #434B5C;\n",
              "      box-shadow: 0px 1px 3px 1px rgba(0, 0, 0, 0.15);\n",
              "      filter: drop-shadow(0px 1px 2px rgba(0, 0, 0, 0.3));\n",
              "      fill: #FFFFFF;\n",
              "    }\n",
              "  </style>\n",
              "\n",
              "      <script>\n",
              "        const buttonEl =\n",
              "          document.querySelector('#df-b427a693-56b1-4d54-866f-286611e734da button.colab-df-convert');\n",
              "        buttonEl.style.display =\n",
              "          google.colab.kernel.accessAllowed ? 'block' : 'none';\n",
              "\n",
              "        async function convertToInteractive(key) {\n",
              "          const element = document.querySelector('#df-b427a693-56b1-4d54-866f-286611e734da');\n",
              "          const dataTable =\n",
              "            await google.colab.kernel.invokeFunction('convertToInteractive',\n",
              "                                                     [key], {});\n",
              "          if (!dataTable) return;\n",
              "\n",
              "          const docLinkHtml = 'Like what you see? Visit the ' +\n",
              "            '<a target=\"_blank\" href=https://colab.research.google.com/notebooks/data_table.ipynb>data table notebook</a>'\n",
              "            + ' to learn more about interactive tables.';\n",
              "          element.innerHTML = '';\n",
              "          dataTable['output_type'] = 'display_data';\n",
              "          await google.colab.output.renderOutput(dataTable, element);\n",
              "          const docLink = document.createElement('div');\n",
              "          docLink.innerHTML = docLinkHtml;\n",
              "          element.appendChild(docLink);\n",
              "        }\n",
              "      </script>\n",
              "    </div>\n",
              "  </div>\n",
              "  "
            ]
          },
          "metadata": {},
          "execution_count": 2
        }
      ]
    },
    {
      "cell_type": "code",
      "source": [
        "df.shape"
      ],
      "metadata": {
        "colab": {
          "base_uri": "https://localhost:8080/"
        },
        "id": "gUrG-DaUV7u7",
        "outputId": "dd7c002f-ccf1-4206-ec07-3c8c3e0f67ba"
      },
      "execution_count": 3,
      "outputs": [
        {
          "output_type": "execute_result",
          "data": {
            "text/plain": [
              "(70180, 20)"
            ]
          },
          "metadata": {},
          "execution_count": 3
        }
      ]
    },
    {
      "cell_type": "code",
      "source": [
        "df.isnull().sum()"
      ],
      "metadata": {
        "colab": {
          "base_uri": "https://localhost:8080/"
        },
        "id": "WAps2jqkV7xh",
        "outputId": "dedaa2d5-d717-437d-b238-39e8fdecc3f0"
      },
      "execution_count": 4,
      "outputs": [
        {
          "output_type": "execute_result",
          "data": {
            "text/plain": [
              "patient_nbr                 0\n",
              "race                        0\n",
              "gender                      0\n",
              "age                         0\n",
              "admission_type_id           0\n",
              "discharge_disposition_id    0\n",
              "admission_source_id         0\n",
              "time_in_hospital            0\n",
              "num_lab_procedures          0\n",
              "num_procedures              0\n",
              "num_medications             0\n",
              "number_outpatient           0\n",
              "number_emergency            0\n",
              "number_inpatient            0\n",
              "diag_1                      0\n",
              "diag_2                      0\n",
              "diag_3                      0\n",
              "number_diagnoses            0\n",
              "change                      0\n",
              "diabatic                    0\n",
              "dtype: int64"
            ]
          },
          "metadata": {},
          "execution_count": 4
        }
      ]
    },
    {
      "cell_type": "code",
      "source": [
        "df.nunique()"
      ],
      "metadata": {
        "colab": {
          "base_uri": "https://localhost:8080/"
        },
        "id": "-E8NhCT6V70J",
        "outputId": "6114cdd6-1854-40cb-cbae-01b885ce8dda"
      },
      "execution_count": 5,
      "outputs": [
        {
          "output_type": "execute_result",
          "data": {
            "text/plain": [
              "patient_nbr                 52500\n",
              "race                            6\n",
              "gender                          3\n",
              "age                            10\n",
              "admission_type_id               8\n",
              "discharge_disposition_id       26\n",
              "admission_source_id            13\n",
              "time_in_hospital               14\n",
              "num_lab_procedures            116\n",
              "num_procedures                  7\n",
              "num_medications                74\n",
              "number_outpatient              29\n",
              "number_emergency               19\n",
              "number_inpatient               21\n",
              "diag_1                        685\n",
              "diag_2                        702\n",
              "diag_3                        727\n",
              "number_diagnoses               16\n",
              "change                          2\n",
              "diabatic                        2\n",
              "dtype: int64"
            ]
          },
          "metadata": {},
          "execution_count": 5
        }
      ]
    },
    {
      "cell_type": "code",
      "source": [
        "df.drop(columns=\"patient_nbr\",axis=1,inplace=True)"
      ],
      "metadata": {
        "id": "5G0sYZRoV72a"
      },
      "execution_count": 6,
      "outputs": []
    },
    {
      "cell_type": "code",
      "source": [
        "df.dtypes"
      ],
      "metadata": {
        "colab": {
          "base_uri": "https://localhost:8080/"
        },
        "id": "HtvFcYAYV75Y",
        "outputId": "3c085641-4f05-4ca8-b424-2a6fd568fb21"
      },
      "execution_count": 7,
      "outputs": [
        {
          "output_type": "execute_result",
          "data": {
            "text/plain": [
              "race                        object\n",
              "gender                      object\n",
              "age                         object\n",
              "admission_type_id            int64\n",
              "discharge_disposition_id     int64\n",
              "admission_source_id          int64\n",
              "time_in_hospital             int64\n",
              "num_lab_procedures           int64\n",
              "num_procedures               int64\n",
              "num_medications              int64\n",
              "number_outpatient            int64\n",
              "number_emergency             int64\n",
              "number_inpatient             int64\n",
              "diag_1                      object\n",
              "diag_2                      object\n",
              "diag_3                      object\n",
              "number_diagnoses             int64\n",
              "change                      object\n",
              "diabatic                    object\n",
              "dtype: object"
            ]
          },
          "metadata": {},
          "execution_count": 7
        }
      ]
    },
    {
      "cell_type": "code",
      "source": [
        "df.drop('diag_1',inplace=True,axis=1)\n",
        "df.drop('diag_2',inplace=True,axis=1)\n",
        "df.drop('diag_3',inplace=True,axis=1)"
      ],
      "metadata": {
        "id": "K-CVPQWeV77_"
      },
      "execution_count": 8,
      "outputs": []
    },
    {
      "cell_type": "code",
      "source": [
        "df.drop_duplicates(keep='first',inplace=True)"
      ],
      "metadata": {
        "id": "lNm2NQfGV7-m"
      },
      "execution_count": 9,
      "outputs": []
    },
    {
      "cell_type": "code",
      "source": [
        "df.shape"
      ],
      "metadata": {
        "colab": {
          "base_uri": "https://localhost:8080/"
        },
        "id": "l2-f2FiiV8BY",
        "outputId": "a83b8811-815f-486f-a14d-3d92867462c7"
      },
      "execution_count": 10,
      "outputs": [
        {
          "output_type": "execute_result",
          "data": {
            "text/plain": [
              "(70158, 16)"
            ]
          },
          "metadata": {},
          "execution_count": 10
        }
      ]
    },
    {
      "cell_type": "code",
      "source": [
        ""
      ],
      "metadata": {
        "id": "uyDiPXTvV8Dw"
      },
      "execution_count": null,
      "outputs": []
    },
    {
      "cell_type": "markdown",
      "source": [
        "**Correlation**"
      ],
      "metadata": {
        "id": "fygM_WRdW2pa"
      }
    },
    {
      "cell_type": "code",
      "source": [
        "df_num = pd.DataFrame()\n",
        "df_cat = pd.DataFrame()\n",
        "for i in df.columns:\n",
        "    if df[i].dtype == object:\n",
        "        df_cat[i] = df[i]\n",
        "    else:\n",
        "        df_num[i] = df[i]"
      ],
      "metadata": {
        "id": "1Q1Mdh7oV8Go"
      },
      "execution_count": 13,
      "outputs": []
    },
    {
      "cell_type": "code",
      "source": [
        "corr = df_num.corr()\n",
        "corr"
      ],
      "metadata": {
        "colab": {
          "base_uri": "https://localhost:8080/",
          "height": 458
        },
        "id": "_IHOuACVV8JC",
        "outputId": "fbec5fb7-3008-47a0-d1fe-63add1960d15"
      },
      "execution_count": 14,
      "outputs": [
        {
          "output_type": "execute_result",
          "data": {
            "text/plain": [
              "                          admission_type_id  discharge_disposition_id  \\\n",
              "admission_type_id                  1.000000                  0.096843   \n",
              "discharge_disposition_id           0.096843                  1.000000   \n",
              "admission_source_id                0.205692                  0.018261   \n",
              "time_in_hospital                  -0.020958                  0.157765   \n",
              "num_lab_procedures                -0.157771                  0.004325   \n",
              "num_procedures                     0.103396                  0.018338   \n",
              "num_medications                    0.095360                  0.114946   \n",
              "number_outpatient                  0.062063                 -0.013898   \n",
              "number_emergency                  -0.004614                 -0.025384   \n",
              "number_inpatient                  -0.032951                  0.018284   \n",
              "number_diagnoses                  -0.090410                  0.057877   \n",
              "\n",
              "                          admission_source_id  time_in_hospital  \\\n",
              "admission_type_id                    0.205692         -0.020958   \n",
              "discharge_disposition_id             0.018261          0.157765   \n",
              "admission_source_id                  1.000000         -0.015337   \n",
              "time_in_hospital                    -0.015337          1.000000   \n",
              "num_lab_procedures                  -0.015556          0.285691   \n",
              "num_procedures                      -0.136305          0.201898   \n",
              "num_medications                     -0.040301          0.464550   \n",
              "number_outpatient                    0.071148         -0.014692   \n",
              "number_emergency                     0.082623         -0.017003   \n",
              "number_inpatient                     0.036809          0.079090   \n",
              "number_diagnoses                     0.081212          0.236999   \n",
              "\n",
              "                          num_lab_procedures  num_procedures  num_medications  \\\n",
              "admission_type_id                  -0.157771        0.103396         0.095360   \n",
              "discharge_disposition_id            0.004325        0.018338         0.114946   \n",
              "admission_source_id                -0.015556       -0.136305        -0.040301   \n",
              "time_in_hospital                    0.285691        0.201898         0.464550   \n",
              "num_lab_procedures                  1.000000        0.068522         0.239878   \n",
              "num_procedures                      0.068522        1.000000         0.401177   \n",
              "num_medications                     0.239878        0.401177         1.000000   \n",
              "number_outpatient                  -0.014265       -0.018384         0.040791   \n",
              "number_emergency                   -0.015748       -0.040267         0.013059   \n",
              "number_inpatient                    0.045621       -0.063431         0.058786   \n",
              "number_diagnoses                    0.133977        0.083442         0.242548   \n",
              "\n",
              "                          number_outpatient  number_emergency  \\\n",
              "admission_type_id                  0.062063         -0.004614   \n",
              "discharge_disposition_id          -0.013898         -0.025384   \n",
              "admission_source_id                0.071148          0.082623   \n",
              "time_in_hospital                  -0.014692         -0.017003   \n",
              "num_lab_procedures                -0.014265         -0.015748   \n",
              "num_procedures                    -0.018384         -0.040267   \n",
              "num_medications                    0.040791          0.013059   \n",
              "number_outpatient                  1.000000          0.115870   \n",
              "number_emergency                   0.115870          1.000000   \n",
              "number_inpatient                   0.104589          0.256632   \n",
              "number_diagnoses                   0.096658          0.053267   \n",
              "\n",
              "                          number_inpatient  number_diagnoses  \n",
              "admission_type_id                -0.032951         -0.090410  \n",
              "discharge_disposition_id          0.018284          0.057877  \n",
              "admission_source_id               0.036809          0.081212  \n",
              "time_in_hospital                  0.079090          0.236999  \n",
              "num_lab_procedures                0.045621          0.133977  \n",
              "num_procedures                   -0.063431          0.083442  \n",
              "num_medications                   0.058786          0.242548  \n",
              "number_outpatient                 0.104589          0.096658  \n",
              "number_emergency                  0.256632          0.053267  \n",
              "number_inpatient                  1.000000          0.112751  \n",
              "number_diagnoses                  0.112751          1.000000  "
            ],
            "text/html": [
              "\n",
              "  <div id=\"df-0539328f-f728-41a7-a562-7505258fb874\">\n",
              "    <div class=\"colab-df-container\">\n",
              "      <div>\n",
              "<style scoped>\n",
              "    .dataframe tbody tr th:only-of-type {\n",
              "        vertical-align: middle;\n",
              "    }\n",
              "\n",
              "    .dataframe tbody tr th {\n",
              "        vertical-align: top;\n",
              "    }\n",
              "\n",
              "    .dataframe thead th {\n",
              "        text-align: right;\n",
              "    }\n",
              "</style>\n",
              "<table border=\"1\" class=\"dataframe\">\n",
              "  <thead>\n",
              "    <tr style=\"text-align: right;\">\n",
              "      <th></th>\n",
              "      <th>admission_type_id</th>\n",
              "      <th>discharge_disposition_id</th>\n",
              "      <th>admission_source_id</th>\n",
              "      <th>time_in_hospital</th>\n",
              "      <th>num_lab_procedures</th>\n",
              "      <th>num_procedures</th>\n",
              "      <th>num_medications</th>\n",
              "      <th>number_outpatient</th>\n",
              "      <th>number_emergency</th>\n",
              "      <th>number_inpatient</th>\n",
              "      <th>number_diagnoses</th>\n",
              "    </tr>\n",
              "  </thead>\n",
              "  <tbody>\n",
              "    <tr>\n",
              "      <th>admission_type_id</th>\n",
              "      <td>1.000000</td>\n",
              "      <td>0.096843</td>\n",
              "      <td>0.205692</td>\n",
              "      <td>-0.020958</td>\n",
              "      <td>-0.157771</td>\n",
              "      <td>0.103396</td>\n",
              "      <td>0.095360</td>\n",
              "      <td>0.062063</td>\n",
              "      <td>-0.004614</td>\n",
              "      <td>-0.032951</td>\n",
              "      <td>-0.090410</td>\n",
              "    </tr>\n",
              "    <tr>\n",
              "      <th>discharge_disposition_id</th>\n",
              "      <td>0.096843</td>\n",
              "      <td>1.000000</td>\n",
              "      <td>0.018261</td>\n",
              "      <td>0.157765</td>\n",
              "      <td>0.004325</td>\n",
              "      <td>0.018338</td>\n",
              "      <td>0.114946</td>\n",
              "      <td>-0.013898</td>\n",
              "      <td>-0.025384</td>\n",
              "      <td>0.018284</td>\n",
              "      <td>0.057877</td>\n",
              "    </tr>\n",
              "    <tr>\n",
              "      <th>admission_source_id</th>\n",
              "      <td>0.205692</td>\n",
              "      <td>0.018261</td>\n",
              "      <td>1.000000</td>\n",
              "      <td>-0.015337</td>\n",
              "      <td>-0.015556</td>\n",
              "      <td>-0.136305</td>\n",
              "      <td>-0.040301</td>\n",
              "      <td>0.071148</td>\n",
              "      <td>0.082623</td>\n",
              "      <td>0.036809</td>\n",
              "      <td>0.081212</td>\n",
              "    </tr>\n",
              "    <tr>\n",
              "      <th>time_in_hospital</th>\n",
              "      <td>-0.020958</td>\n",
              "      <td>0.157765</td>\n",
              "      <td>-0.015337</td>\n",
              "      <td>1.000000</td>\n",
              "      <td>0.285691</td>\n",
              "      <td>0.201898</td>\n",
              "      <td>0.464550</td>\n",
              "      <td>-0.014692</td>\n",
              "      <td>-0.017003</td>\n",
              "      <td>0.079090</td>\n",
              "      <td>0.236999</td>\n",
              "    </tr>\n",
              "    <tr>\n",
              "      <th>num_lab_procedures</th>\n",
              "      <td>-0.157771</td>\n",
              "      <td>0.004325</td>\n",
              "      <td>-0.015556</td>\n",
              "      <td>0.285691</td>\n",
              "      <td>1.000000</td>\n",
              "      <td>0.068522</td>\n",
              "      <td>0.239878</td>\n",
              "      <td>-0.014265</td>\n",
              "      <td>-0.015748</td>\n",
              "      <td>0.045621</td>\n",
              "      <td>0.133977</td>\n",
              "    </tr>\n",
              "    <tr>\n",
              "      <th>num_procedures</th>\n",
              "      <td>0.103396</td>\n",
              "      <td>0.018338</td>\n",
              "      <td>-0.136305</td>\n",
              "      <td>0.201898</td>\n",
              "      <td>0.068522</td>\n",
              "      <td>1.000000</td>\n",
              "      <td>0.401177</td>\n",
              "      <td>-0.018384</td>\n",
              "      <td>-0.040267</td>\n",
              "      <td>-0.063431</td>\n",
              "      <td>0.083442</td>\n",
              "    </tr>\n",
              "    <tr>\n",
              "      <th>num_medications</th>\n",
              "      <td>0.095360</td>\n",
              "      <td>0.114946</td>\n",
              "      <td>-0.040301</td>\n",
              "      <td>0.464550</td>\n",
              "      <td>0.239878</td>\n",
              "      <td>0.401177</td>\n",
              "      <td>1.000000</td>\n",
              "      <td>0.040791</td>\n",
              "      <td>0.013059</td>\n",
              "      <td>0.058786</td>\n",
              "      <td>0.242548</td>\n",
              "    </tr>\n",
              "    <tr>\n",
              "      <th>number_outpatient</th>\n",
              "      <td>0.062063</td>\n",
              "      <td>-0.013898</td>\n",
              "      <td>0.071148</td>\n",
              "      <td>-0.014692</td>\n",
              "      <td>-0.014265</td>\n",
              "      <td>-0.018384</td>\n",
              "      <td>0.040791</td>\n",
              "      <td>1.000000</td>\n",
              "      <td>0.115870</td>\n",
              "      <td>0.104589</td>\n",
              "      <td>0.096658</td>\n",
              "    </tr>\n",
              "    <tr>\n",
              "      <th>number_emergency</th>\n",
              "      <td>-0.004614</td>\n",
              "      <td>-0.025384</td>\n",
              "      <td>0.082623</td>\n",
              "      <td>-0.017003</td>\n",
              "      <td>-0.015748</td>\n",
              "      <td>-0.040267</td>\n",
              "      <td>0.013059</td>\n",
              "      <td>0.115870</td>\n",
              "      <td>1.000000</td>\n",
              "      <td>0.256632</td>\n",
              "      <td>0.053267</td>\n",
              "    </tr>\n",
              "    <tr>\n",
              "      <th>number_inpatient</th>\n",
              "      <td>-0.032951</td>\n",
              "      <td>0.018284</td>\n",
              "      <td>0.036809</td>\n",
              "      <td>0.079090</td>\n",
              "      <td>0.045621</td>\n",
              "      <td>-0.063431</td>\n",
              "      <td>0.058786</td>\n",
              "      <td>0.104589</td>\n",
              "      <td>0.256632</td>\n",
              "      <td>1.000000</td>\n",
              "      <td>0.112751</td>\n",
              "    </tr>\n",
              "    <tr>\n",
              "      <th>number_diagnoses</th>\n",
              "      <td>-0.090410</td>\n",
              "      <td>0.057877</td>\n",
              "      <td>0.081212</td>\n",
              "      <td>0.236999</td>\n",
              "      <td>0.133977</td>\n",
              "      <td>0.083442</td>\n",
              "      <td>0.242548</td>\n",
              "      <td>0.096658</td>\n",
              "      <td>0.053267</td>\n",
              "      <td>0.112751</td>\n",
              "      <td>1.000000</td>\n",
              "    </tr>\n",
              "  </tbody>\n",
              "</table>\n",
              "</div>\n",
              "      <button class=\"colab-df-convert\" onclick=\"convertToInteractive('df-0539328f-f728-41a7-a562-7505258fb874')\"\n",
              "              title=\"Convert this dataframe to an interactive table.\"\n",
              "              style=\"display:none;\">\n",
              "        \n",
              "  <svg xmlns=\"http://www.w3.org/2000/svg\" height=\"24px\"viewBox=\"0 0 24 24\"\n",
              "       width=\"24px\">\n",
              "    <path d=\"M0 0h24v24H0V0z\" fill=\"none\"/>\n",
              "    <path d=\"M18.56 5.44l.94 2.06.94-2.06 2.06-.94-2.06-.94-.94-2.06-.94 2.06-2.06.94zm-11 1L8.5 8.5l.94-2.06 2.06-.94-2.06-.94L8.5 2.5l-.94 2.06-2.06.94zm10 10l.94 2.06.94-2.06 2.06-.94-2.06-.94-.94-2.06-.94 2.06-2.06.94z\"/><path d=\"M17.41 7.96l-1.37-1.37c-.4-.4-.92-.59-1.43-.59-.52 0-1.04.2-1.43.59L10.3 9.45l-7.72 7.72c-.78.78-.78 2.05 0 2.83L4 21.41c.39.39.9.59 1.41.59.51 0 1.02-.2 1.41-.59l7.78-7.78 2.81-2.81c.8-.78.8-2.07 0-2.86zM5.41 20L4 18.59l7.72-7.72 1.47 1.35L5.41 20z\"/>\n",
              "  </svg>\n",
              "      </button>\n",
              "      \n",
              "  <style>\n",
              "    .colab-df-container {\n",
              "      display:flex;\n",
              "      flex-wrap:wrap;\n",
              "      gap: 12px;\n",
              "    }\n",
              "\n",
              "    .colab-df-convert {\n",
              "      background-color: #E8F0FE;\n",
              "      border: none;\n",
              "      border-radius: 50%;\n",
              "      cursor: pointer;\n",
              "      display: none;\n",
              "      fill: #1967D2;\n",
              "      height: 32px;\n",
              "      padding: 0 0 0 0;\n",
              "      width: 32px;\n",
              "    }\n",
              "\n",
              "    .colab-df-convert:hover {\n",
              "      background-color: #E2EBFA;\n",
              "      box-shadow: 0px 1px 2px rgba(60, 64, 67, 0.3), 0px 1px 3px 1px rgba(60, 64, 67, 0.15);\n",
              "      fill: #174EA6;\n",
              "    }\n",
              "\n",
              "    [theme=dark] .colab-df-convert {\n",
              "      background-color: #3B4455;\n",
              "      fill: #D2E3FC;\n",
              "    }\n",
              "\n",
              "    [theme=dark] .colab-df-convert:hover {\n",
              "      background-color: #434B5C;\n",
              "      box-shadow: 0px 1px 3px 1px rgba(0, 0, 0, 0.15);\n",
              "      filter: drop-shadow(0px 1px 2px rgba(0, 0, 0, 0.3));\n",
              "      fill: #FFFFFF;\n",
              "    }\n",
              "  </style>\n",
              "\n",
              "      <script>\n",
              "        const buttonEl =\n",
              "          document.querySelector('#df-0539328f-f728-41a7-a562-7505258fb874 button.colab-df-convert');\n",
              "        buttonEl.style.display =\n",
              "          google.colab.kernel.accessAllowed ? 'block' : 'none';\n",
              "\n",
              "        async function convertToInteractive(key) {\n",
              "          const element = document.querySelector('#df-0539328f-f728-41a7-a562-7505258fb874');\n",
              "          const dataTable =\n",
              "            await google.colab.kernel.invokeFunction('convertToInteractive',\n",
              "                                                     [key], {});\n",
              "          if (!dataTable) return;\n",
              "\n",
              "          const docLinkHtml = 'Like what you see? Visit the ' +\n",
              "            '<a target=\"_blank\" href=https://colab.research.google.com/notebooks/data_table.ipynb>data table notebook</a>'\n",
              "            + ' to learn more about interactive tables.';\n",
              "          element.innerHTML = '';\n",
              "          dataTable['output_type'] = 'display_data';\n",
              "          await google.colab.output.renderOutput(dataTable, element);\n",
              "          const docLink = document.createElement('div');\n",
              "          docLink.innerHTML = docLinkHtml;\n",
              "          element.appendChild(docLink);\n",
              "        }\n",
              "      </script>\n",
              "    </div>\n",
              "  </div>\n",
              "  "
            ]
          },
          "metadata": {},
          "execution_count": 14
        }
      ]
    },
    {
      "cell_type": "code",
      "source": [
        "plt.figure(figsize = (25,10))\n",
        "sns.heatmap(corr,annot = True)"
      ],
      "metadata": {
        "colab": {
          "base_uri": "https://localhost:8080/",
          "height": 725
        },
        "id": "YRgshO4zV8Lp",
        "outputId": "57764e0f-6106-4654-fdc4-91c6cfd2d132"
      },
      "execution_count": 16,
      "outputs": [
        {
          "output_type": "execute_result",
          "data": {
            "text/plain": [
              "<matplotlib.axes._subplots.AxesSubplot at 0x7f8c52935590>"
            ]
          },
          "metadata": {},
          "execution_count": 16
        },
        {
          "output_type": "display_data",
          "data": {
            "text/plain": [
              "<Figure size 1800x720 with 2 Axes>"
            ],
            "image/png": "[encoded data removed]"
          },
          "metadata": {
            "needs_background": "light"
          }
        }
      ]
    },
    {
      "cell_type": "code",
      "source": [
        "df[\"race\"].replace(\"?\",np.nan,inplace = True)\n",
        "df.dropna(subset = [\"race\"],inplace = True)"
      ],
      "metadata": {
        "id": "bWU8-WLkV8ON"
      },
      "execution_count": 17,
      "outputs": []
    },
    {
      "cell_type": "markdown",
      "source": [
        "**Encoding**"
      ],
      "metadata": {
        "id": "wMOesrWcX27T"
      }
    },
    {
      "cell_type": "code",
      "source": [
        "from sklearn.preprocessing import LabelEncoder\n",
        "label=LabelEncoder()\n"
      ],
      "metadata": {
        "id": "fY-7mEFIV8Qv"
      },
      "execution_count": 18,
      "outputs": []
    },
    {
      "cell_type": "code",
      "source": [
        "df[\"race\"] = label.fit_transform(df[\"race\"])\n",
        "df[\"age\"] = label.fit_transform(df[\"age\"])\n",
        "df[\"gender\"] = label.fit_transform(df[\"gender\"])\n",
        "df[\"change\"] = label.fit_transform(df[\"change\"])\n",
        "df[\"diabatic\"] = label.fit_transform(df[\"diabatic\"])"
      ],
      "metadata": {
        "id": "IE_5UNfkV8TQ"
      },
      "execution_count": 20,
      "outputs": []
    },
    {
      "cell_type": "code",
      "source": [
        "X=df.drop(\"diabatic\",axis=1)\n",
        "Y=df.diabatic"
      ],
      "metadata": {
        "id": "iNUNVjgjV8Vv"
      },
      "execution_count": 26,
      "outputs": []
    },
    {
      "cell_type": "markdown",
      "source": [
        "**Test and Train**"
      ],
      "metadata": {
        "id": "vpYEUz0lYNom"
      }
    },
    {
      "cell_type": "code",
      "source": [
        "from sklearn.tree import DecisionTreeClassifier\n",
        "from sklearn.model_selection import train_test_split\n",
        "from sklearn.ensemble import RandomForestClassifier\n",
        "from sklearn.metrics import roc_auc_score"
      ],
      "metadata": {
        "id": "yaT5UfXyYe-p"
      },
      "execution_count": 27,
      "outputs": []
    },
    {
      "cell_type": "code",
      "source": [
        "X_train, X_test, y_train, y_test = train_test_split(X,Y, test_size=0.3,random_state=10)"
      ],
      "metadata": {
        "id": "5wbdanIVV8YL"
      },
      "execution_count": 28,
      "outputs": []
    },
    {
      "cell_type": "markdown",
      "source": [
        "**Decision Tree** \n",
        "\n",
        "\n",
        "\n"
      ],
      "metadata": {
        "id": "pT7dsIZcYs0Z"
      }
    },
    {
      "cell_type": "code",
      "source": [
        "M= DecisionTreeClassifier()"
      ],
      "metadata": {
        "id": "ZDdrMq75V8as"
      },
      "execution_count": 30,
      "outputs": []
    },
    {
      "cell_type": "code",
      "source": [
        "M.fit(X_train,y_train)"
      ],
      "metadata": {
        "colab": {
          "base_uri": "https://localhost:8080/"
        },
        "id": "6QiQNrgJV8dB",
        "outputId": "f13f4413-b5f3-4d28-fe0e-611a223e678c"
      },
      "execution_count": 31,
      "outputs": [
        {
          "output_type": "execute_result",
          "data": {
            "text/plain": [
              "DecisionTreeClassifier()"
            ]
          },
          "metadata": {},
          "execution_count": 31
        }
      ]
    },
    {
      "cell_type": "code",
      "source": [
        "y_pred =M.predict(X_test)"
      ],
      "metadata": {
        "id": "lBGF8-sJV8fh"
      },
      "execution_count": 32,
      "outputs": []
    },
    {
      "cell_type": "code",
      "source": [
        "from sklearn.metrics import accuracy_score,confusion_matrix,auc\n",
        "accuracy_score(y_pred,y_test)"
      ],
      "metadata": {
        "colab": {
          "base_uri": "https://localhost:8080/"
        },
        "id": "zPBfptNWV8h9",
        "outputId": "813e9cdc-45f7-4b93-850e-ba05a0c50dbd"
      },
      "execution_count": 34,
      "outputs": [
        {
          "output_type": "execute_result",
          "data": {
            "text/plain": [
              "0.710334788937409"
            ]
          },
          "metadata": {},
          "execution_count": 34
        }
      ]
    },
    {
      "cell_type": "code",
      "source": [
        "confusion_matrix(y_test,M.predict(X_test))"
      ],
      "metadata": {
        "colab": {
          "base_uri": "https://localhost:8080/"
        },
        "id": "aOKH7WmpV8km",
        "outputId": "8d89df5e-009a-499e-a7fb-dab5207fa1f6"
      },
      "execution_count": 36,
      "outputs": [
        {
          "output_type": "execute_result",
          "data": {
            "text/plain": [
              "array([[ 3813,  3073],\n",
              "       [ 2897, 10827]])"
            ]
          },
          "metadata": {},
          "execution_count": 36
        }
      ]
    },
    {
      "cell_type": "code",
      "source": [
        "sns.heatmap(confusion_matrix(y_test,M.predict(X_test)),annot = True)"
      ],
      "metadata": {
        "colab": {
          "base_uri": "https://localhost:8080/",
          "height": 282
        },
        "id": "Wr9ibau9V8m9",
        "outputId": "a26e2894-2ea0-4c25-fc2e-9ef86d47ea0e"
      },
      "execution_count": 37,
      "outputs": [
        {
          "output_type": "execute_result",
          "data": {
            "text/plain": [
              "<matplotlib.axes._subplots.AxesSubplot at 0x7f8c4fba7650>"
            ]
          },
          "metadata": {},
          "execution_count": 37
        },
        {
          "output_type": "display_data",
          "data": {
            "text/plain": [
              "<Figure size 432x288 with 2 Axes>"
            ],
            "image/png": "[encoded data removed]"
          },
          "metadata": {
            "needs_background": "light"
          }
        }
      ]
    },
    {
      "cell_type": "markdown",
      "source": [
        "**Random Forest **"
      ],
      "metadata": {
        "id": "dcPTnpntZYS7"
      }
    },
    {
      "cell_type": "code",
      "source": [
        "m_rf = RandomForestClassifier(max_depth= 2, random_state=0)\n",
        "m_rf.fit(X_train,y_train)"
      ],
      "metadata": {
        "colab": {
          "base_uri": "https://localhost:8080/"
        },
        "id": "DAagKBkTV8pa",
        "outputId": "6008f9c0-ec15-4307-92cc-32799cf5283c"
      },
      "execution_count": 38,
      "outputs": [
        {
          "output_type": "execute_result",
          "data": {
            "text/plain": [
              "RandomForestClassifier(max_depth=2, random_state=0)"
            ]
          },
          "metadata": {},
          "execution_count": 38
        }
      ]
    },
    {
      "cell_type": "code",
      "source": [
        "accuracy_score(M.predict(X_test),y_test)"
      ],
      "metadata": {
        "colab": {
          "base_uri": "https://localhost:8080/"
        },
        "id": "-NKYeRo7V8rr",
        "outputId": "c94e9512-7b06-43d7-eee2-40504dd862f4"
      },
      "execution_count": 40,
      "outputs": [
        {
          "output_type": "execute_result",
          "data": {
            "text/plain": [
              "0.710334788937409"
            ]
          },
          "metadata": {},
          "execution_count": 40
        }
      ]
    },
    {
      "cell_type": "code",
      "source": [
        "p= m_rf.predict_proba(X_test)\n"
      ],
      "metadata": {
        "id": "tNxvL88-V8ua"
      },
      "execution_count": 41,
      "outputs": []
    },
    {
      "cell_type": "code",
      "source": [
        "from sklearn.metrics import roc_curve\n",
        "f, t, tr = roc_curve(y_test, p[:,1], pos_label=1)\n",
        "random_probs = [0 for i in range(len(y_test))]\n",
        "pt, ptr, _ = roc_curve(y_test, random_probs, pos_label=1)"
      ],
      "metadata": {
        "id": "P7hTTAM9V8w4"
      },
      "execution_count": 42,
      "outputs": []
    },
    {
      "cell_type": "code",
      "source": [
        "auc_score1 = roc_auc_score(y_test, p[:,1])"
      ],
      "metadata": {
        "id": "sMpiWvzsV8zS"
      },
      "execution_count": 43,
      "outputs": []
    },
    {
      "cell_type": "code",
      "source": [
        "print(auc_score1)"
      ],
      "metadata": {
        "colab": {
          "base_uri": "https://localhost:8080/"
        },
        "id": "tqjqdUI-V81-",
        "outputId": "12a1134b-7d0c-49e5-8b29-b76f213c8afd"
      },
      "execution_count": 44,
      "outputs": [
        {
          "output_type": "stream",
          "name": "stdout",
          "text": [
            "0.8222483304950599\n"
          ]
        }
      ]
    },
    {
      "cell_type": "code",
      "source": [
        "sns.heatmap(confusion_matrix(y_test,m_rf.predict(X_test)),annot = True)"
      ],
      "metadata": {
        "colab": {
          "base_uri": "https://localhost:8080/",
          "height": 282
        },
        "id": "wc9dNalWV84Z",
        "outputId": "fd0204cc-feed-4cfa-eb02-26509164f886"
      },
      "execution_count": 46,
      "outputs": [
        {
          "output_type": "execute_result",
          "data": {
            "text/plain": [
              "<matplotlib.axes._subplots.AxesSubplot at 0x7f8c4fa28390>"
            ]
          },
          "metadata": {},
          "execution_count": 46
        },
        {
          "output_type": "display_data",
          "data": {
            "text/plain": [
              "<Figure size 432x288 with 2 Axes>"
            ],
            "image/png": "[encoded data removed]"
          },
          "metadata": {
            "needs_background": "light"
          }
        }
      ]
    }
  ]
}